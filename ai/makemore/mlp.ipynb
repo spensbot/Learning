{
 "cells": [
  {
   "cell_type": "code",
   "execution_count": 713,
   "metadata": {},
   "outputs": [],
   "source": [
    "import torch\n",
    "import torch.nn.functional as F"
   ]
  },
  {
   "cell_type": "code",
   "execution_count": 734,
   "metadata": {},
   "outputs": [
    {
     "name": "stdout",
     "output_type": "stream",
     "text": [
      "name count: 6782\n",
      "xs.shape: torch.Size([23494, 7])\n",
      "param count: 4481\n"
     ]
    }
   ],
   "source": [
    "# SETUP CONSTANTS\n",
    "\n",
    "from util import get_names, PAD, ctoi, itoc, N_CHARS\n",
    "\n",
    "CONTEXT: int = 7\n",
    "EMBEDDING_WIDTH: int = 2\n",
    "HIDDEN_WIDTH: int = 100\n",
    "BATCH_SIZE: int = 32\n",
    "DEVICE = 'cpu'\n",
    "# DEVICE = 'mps'\n",
    "# DEVICE = 'cuda'\n",
    "\n",
    "names = get_names()\n",
    "\n",
    "# PREP DATA\n",
    "\n",
    "def get_xs_and_ys():\n",
    "    padding = PAD * CONTEXT # e.g. '.....'\n",
    "    n = CONTEXT + 1\n",
    "\n",
    "    xlist: list[list[int]] = []\n",
    "    ylist: list[int] = []\n",
    "\n",
    "    for name in names:\n",
    "        name = padding + name + padding\n",
    "        sets = [list(name[i:i+n]) for i in range(len(name) - n * 2 + 3)]\n",
    "        for set in sets:\n",
    "            xlist.append([ctoi[c] for c in set[:-1]])\n",
    "            ylist.append(ctoi[set[-1]])\n",
    "\n",
    "    xs = torch.tensor(xlist, dtype=torch.int64).to(device=DEVICE)\n",
    "    # xs = F.one_hot(xs, N_CHARS).float()\n",
    "    ys = torch.tensor(ylist, dtype=torch.int64).to(device=DEVICE)\n",
    "\n",
    "    return (xs, ys)\n",
    "\n",
    "xs, ys = get_xs_and_ys()\n",
    "\n",
    "split = int(xs.shape[0] * 0.5)\n",
    "xs_test = xs[split:]\n",
    "ys_test = ys[split:]\n",
    "xs = xs[:split]\n",
    "ys = ys[:split]\n",
    "\n",
    "print(f\"xs.shape: {xs.shape}\")\n",
    "# print(ys.shape)\n",
    "# print(xs_test.shape)\n",
    "# print(ys_test.shape)\n",
    "\n",
    "M = ys.shape[0]\n",
    "\n",
    "# INITIALIZE MODEL\n",
    "\n",
    "EmbeddingMatrix = torch.randn(N_CHARS, EMBEDDING_WIDTH).to(device=DEVICE) # will be ran once for each context character\n",
    "# The output is concatenated along the embedding dim before passing to the hidden layer\n",
    "# print(EmbeddingMatrix.shape)\n",
    "\n",
    "W1 = torch.randn([CONTEXT * EMBEDDING_WIDTH, HIDDEN_WIDTH]).to(device=DEVICE) * 0.01\n",
    "B1 = torch.randn([1, HIDDEN_WIDTH]).to(device=DEVICE) * 0.0\n",
    "BN1_gain = torch.ones([1, HIDDEN_WIDTH])\n",
    "BN1_bias = torch.zeros([1, HIDDEN_WIDTH])\n",
    "BN1_mean = torch.zeros([1, HIDDEN_WIDTH])\n",
    "BN1_std = torch.ones([1, HIDDEN_WIDTH])\n",
    "\n",
    "W2 = torch.randn([HIDDEN_WIDTH, N_CHARS]).to(device=DEVICE) * 0.01\n",
    "B2 = torch.randn([1, N_CHARS]).to(device=DEVICE) * 0.0\n",
    "\n",
    "params = [EmbeddingMatrix, W1, B1, W2, B2, BN1_gain, BN1_bias]\n",
    "\n",
    "for p in params:\n",
    "    p.requires_grad = True\n",
    "    \n",
    "param_count = sum([param.numel() for param in params])\n",
    "print(f\"param count: {param_count}\")\n",
    "\n",
    "losses = []"
   ]
  },
  {
   "cell_type": "code",
   "execution_count": 744,
   "metadata": {},
   "outputs": [
    {
     "name": "stdout",
     "output_type": "stream",
     "text": [
      "Train Loss: 1.876\n",
      "Test Loss: 2.4\n"
     ]
    }
   ],
   "source": [
    "for _ in range(2000):\n",
    "    mb_is = torch.randint(0, M, [BATCH_SIZE])\n",
    "    mb_xs = xs[mb_is]\n",
    "    mb_ys = ys[mb_is]\n",
    "\n",
    "    # FORWARD\n",
    "    # TODO: Eliminate cat by using multidimentional indexing and view instead. Building Makemore pt. 2 @ 16:30\n",
    "    embeddings = EmbeddingMatrix[mb_xs].view(mb_xs.shape[0], CONTEXT * EMBEDDING_WIDTH)\n",
    "    h_out = embeddings @ W1 + B1\n",
    "    b_mean = h_out.mean(0, keepdim=True)\n",
    "    b_std = h_out.std(0, keepdim=True)\n",
    "    BN1_mean = 0.999 * BN1_mean + 0.001 * b_mean\n",
    "    BN1_std = 0.999 * BN1_std + 0.001 * b_std\n",
    "    h_norm = BN1_gain * (h_out - b_mean) / b_std + BN1_bias\n",
    "    h_activations = torch.tanh(h_norm)\n",
    "    logits = h_activations @ W2 + B2\n",
    "\n",
    "    loss = F.cross_entropy(logits, mb_ys)\n",
    "    losses.append(loss.item())\n",
    "    # print(loss.item())\n",
    "\n",
    "    # LOSS\n",
    "    # counts = logits.exp()\n",
    "    # prob = counts / counts.sum(dim=1, keepdim=True)\n",
    "    # loss = - prob[torch.arange(M, dtype=torch.int64), ys].log().mean()\n",
    "    # print(loss)\n",
    "\n",
    "    # BACKWARD\n",
    "    for p in params:\n",
    "        p.grad = None\n",
    "    loss.backward()\n",
    "\n",
    "    # STEP\n",
    "    for p in params:\n",
    "        p.data += -0.01* p.grad # type: ignore\n",
    "\n",
    "print(f\"Train Loss: {losses[-1]:.4}\")\n",
    "\n",
    "embeddings = EmbeddingMatrix[xs_test].view(xs_test.shape[0], CONTEXT * EMBEDDING_WIDTH)\n",
    "h_out = embeddings @ W1 + B1\n",
    "h_norm = BN1_gain * (h_out - BN1_mean) / BN1_std + BN1_bias\n",
    "h_activations = torch.tanh(h_norm)\n",
    "logits = h_activations @ W2 + B2\n",
    "test_loss = F.cross_entropy(logits, ys_test)\n",
    "\n",
    "print(f\"Test Loss: {test_loss.item():.4}\")"
   ]
  },
  {
   "cell_type": "code",
   "execution_count": 745,
   "metadata": {},
   "outputs": [
    {
     "name": "stdout",
     "output_type": "stream",
     "text": [
      "kolteg\n",
      "bonorteare\n",
      "jemrie\n",
      "binhon\n",
      "hirbe\n",
      "\n",
      "tevaon\n",
      "rfinyq\n",
      "anthmeof\n",
      "lalon\n",
      "shalrer\n",
      "rardino\n",
      "erylen\n",
      "avizm\n",
      "therd\n",
      "jrulald\n",
      "kostyv\n",
      "lementao\n",
      "cetnanh\n",
      "rade\n",
      "ebcer\n",
      "padent\n",
      "shaioi\n",
      "feraud\n",
      "aq\n"
     ]
    },
    {
     "name": "stderr",
     "output_type": "stream",
     "text": [
      "/var/folders/2k/g9g7tsv17yz6bznx2ws2v5940000gn/T/ipykernel_5841/1274181474.py:16: UserWarning: Implicit dimension choice for softmax has been deprecated. Change the call to include dim=X as an argument.\n",
      "  probs = F.softmax(logits)\n"
     ]
    }
   ],
   "source": [
    "# Predict\n",
    "\n",
    "for i in range(25):\n",
    "    name = PAD * CONTEXT\n",
    "\n",
    "    while name[-1] != PAD or len(name) == CONTEXT:\n",
    "        _xs = torch.tensor([ctoi[c] for c in name[-CONTEXT:]]).unsqueeze(dim=0)\n",
    "        # print(xs.shape)\n",
    "\n",
    "        embeddings = EmbeddingMatrix[_xs].view(_xs.shape[0], CONTEXT * EMBEDDING_WIDTH)\n",
    "        h_out = embeddings @ W1 + B1\n",
    "        h_norm = BN1_gain * (h_out - BN1_mean) / BN1_std + BN1_bias\n",
    "        h_activations = torch.tanh(h_norm)\n",
    "        logits = h_activations @ W2 + B2\n",
    "\n",
    "        probs = F.softmax(logits)\n",
    "\n",
    "        i = int(torch.multinomial(probs, 1, replacement=True).item())\n",
    "\n",
    "        name += itoc[i]\n",
    "\n",
    "    name = name.strip('.')\n",
    "    print(name)"
   ]
  },
  {
   "cell_type": "code",
   "execution_count": 748,
   "metadata": {},
   "outputs": [
    {
     "data": {
      "image/png": "[encoded data removed]",
      "text/plain": [
       "<Figure size 800x800 with 1 Axes>"
      ]
     },
     "metadata": {},
     "output_type": "display_data"
    }
   ],
   "source": [
    "import matplotlib.pyplot as plt\n",
    "\n",
    "C = EmbeddingMatrix\n",
    "\n",
    "plt.figure(figsize=(8, 8))\n",
    "cmap = 'inferno' # 'viridis' 'rainbow'\n",
    "s = 200\n",
    "x = C[:, 0].data.cpu()\n",
    "y = C[:, 1].data.cpu() if EMBEDDING_WIDTH > 1 else torch.tensor([0 for _ in range(N_CHARS)])\n",
    "\n",
    "if EMBEDDING_WIDTH > 2:\n",
    "    z = C[:, 2].data.cpu()\n",
    "    plt.scatter(x, y, s=200, c=z) # rainbow\n",
    "else:\n",
    "    plt.scatter(x, y, s=s)\n",
    "\n",
    "for i in range(N_CHARS):\n",
    "    plt.text(x[i].item(), y[i].item(), itoc[i], ha=\"center\", va=\"center\", color=\"white\")\n",
    "# plt.grid('minor')"
   ]
  }
 ],
 "metadata": {
  "kernelspec": {
   "display_name": "Python 3",
   "language": "python",
   "name": "python3"
  },
  "language_info": {
   "codemirror_mode": {
    "name": "ipython",
    "version": 3
   },
   "file_extension": ".py",
   "mimetype": "text/x-python",
   "name": "python",
   "nbconvert_exporter": "python",
   "pygments_lexer": "ipython3",
   "version": "3.11.2"
  }
 },
 "nbformat": 4,
 "nbformat_minor": 2
}
