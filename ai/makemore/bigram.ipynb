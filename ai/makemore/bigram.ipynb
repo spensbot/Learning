{
 "cells": [
  {
   "cell_type": "code",
   "execution_count": 1,
   "metadata": {},
   "outputs": [],
   "source": [
    "import pandas as pd\n",
    "import torch\n",
    "import util"
   ]
  },
  {
   "cell_type": "code",
   "execution_count": 2,
   "metadata": {},
   "outputs": [
    {
     "name": "stdout",
     "output_type": "stream",
     "text": [
      "name count: 6782\n"
     ]
    }
   ],
   "source": [
    "names = util.get_names()"
   ]
  },
  {
   "cell_type": "code",
   "execution_count": 3,
   "metadata": {},
   "outputs": [
    {
     "name": "stdout",
     "output_type": "stream",
     "text": [
      "27\n"
     ]
    }
   ],
   "source": [
    "chars = \".abcdefghijklmnopqrstuvwxyz\"\n",
    "\n",
    "ctoi = {c:i for i,c in enumerate(chars)}\n",
    "itoc = {i:c for i,c in enumerate(chars)}\n",
    "\n",
    "n = len(chars)\n",
    "\n",
    "print(n)"
   ]
  },
  {
   "cell_type": "code",
   "execution_count": 133,
   "metadata": {},
   "outputs": [
    {
     "name": "stdout",
     "output_type": "stream",
     "text": [
      "tensor([1., 1., 1., 1., 1., 1., 1., 1., 1., 1., 1., 1., 1., 1., 1., 1., 1., 1.,\n",
      "        1., 1., 1., 1., 1., 1., 1., 1., 1.])\n",
      "tensor([1.0000])\n",
      "tensor([0.0005, 0.1243, 0.0449, 0.0715, 0.0577, 0.0444, 0.0133, 0.0306, 0.0257,\n",
      "        0.0183, 0.0992, 0.0804, 0.0553, 0.0863, 0.0257, 0.0069, 0.0212, 0.0039,\n",
      "        0.0513, 0.0548, 0.0370, 0.0025, 0.0099, 0.0089, 0.0030, 0.0099, 0.0128])\n"
     ]
    }
   ],
   "source": [
    "model = torch.ones([n, n], dtype=torch.float32)\n",
    "\n",
    "print(model[0])\n",
    "\n",
    "for name in names:\n",
    "    chars = list('.' + name + '.')\n",
    "    for a, b in zip(chars, chars[1:]):\n",
    "        model[ctoi[a]][ctoi[b]] += 1.0\n",
    "\n",
    "model /= model.sum(dim=1, keepdim=True)\n",
    "\n",
    "print(model.sum(dim=1, keepdim=True)[0])\n",
    "\n",
    "print(model[0])"
   ]
  },
  {
   "cell_type": "code",
   "execution_count": 147,
   "metadata": {},
   "outputs": [
    {
     "name": "stdout",
     "output_type": "stream",
     "text": [
      "kedon\n",
      "frenakey\n",
      "aderyn\n",
      "esalller\n",
      "riopberqwa\n",
      "cha\n",
      "ziale\n",
      "kanocizaylinalexa\n",
      "m\n",
      "cyl\n",
      "kar\n",
      "rl\n",
      "jesho\n",
      "jqushria\n",
      "peanzen\n",
      "k\n",
      "dyaga\n",
      "jamisohaynte\n",
      "deychyl\n",
      "iod\n"
     ]
    }
   ],
   "source": [
    "generator = torch.Generator().manual_seed(0)\n",
    "\n",
    "for i in range(20):\n",
    "    name = '.'\n",
    "    while name[-1] != '.' or len(name) == 1:\n",
    "        last: str = name[-1]\n",
    "        selection = torch.multinomial(model[ctoi[last]], 1, replacement=True, generator=generator)\n",
    "        item = selection.item()\n",
    "        char = itoc[int(item)]\n",
    "        name += char\n",
    "\n",
    "    name = name[1:-1]\n",
    "    print(f\"{name}\")"
   ]
  },
  {
   "cell_type": "code",
   "execution_count": 12,
   "metadata": {},
   "outputs": [
    {
     "name": "stdout",
     "output_type": "stream",
     "text": [
      "Analyzing the number of 'parameters' that would be necessary to expand the context to include more preceeding letters\n",
      "1: 729\n",
      "2: 19,683\n",
      "3: 531,441\n",
      "4: 14,348,907\n",
      "5: 387,420,489\n",
      "6: 10,460,353,203\n",
      "7: 282,429,536,481\n",
      "8: 7,625,597,484,987\n"
     ]
    }
   ],
   "source": [
    "print(\"Analyzing the number of 'parameters' that would be necessary to expand the context to include more preceeding letters\")\n",
    "print(f\"1: {27**2:,}\")\n",
    "print(f\"2: {27**3:,}\")\n",
    "print(f\"3: {27**4:,}\")\n",
    "print(f\"4: {27**5:,}\")\n",
    "print(f\"5: {27**6:,}\")\n",
    "print(f\"6: {27**7:,}\")\n",
    "print(f\"7: {27**8:,}\")\n",
    "print(f\"8: {27**9:,}\")"
   ]
  }
 ],
 "metadata": {
  "kernelspec": {
   "display_name": "Python 3",
   "language": "python",
   "name": "python3"
  },
  "language_info": {
   "codemirror_mode": {
    "name": "ipython",
    "version": 3
   },
   "file_extension": ".py",
   "mimetype": "text/x-python",
   "name": "python",
   "nbconvert_exporter": "python",
   "pygments_lexer": "ipython3",
   "version": "3.11.9"
  }
 },
 "nbformat": 4,
 "nbformat_minor": 2
}
