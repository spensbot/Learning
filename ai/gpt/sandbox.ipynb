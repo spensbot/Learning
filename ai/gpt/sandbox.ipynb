{
 "cells": [
  {
   "cell_type": "code",
   "execution_count": 14,
   "metadata": {},
   "outputs": [],
   "source": [
    "import torch\n",
    "import torch.nn as nn\n",
    "import torch.nn.functional as F"
   ]
  },
  {
   "cell_type": "code",
   "execution_count": 19,
   "metadata": {},
   "outputs": [
    {
     "name": "stdout",
     "output_type": "stream",
     "text": [
      "tensor([[ 1.6389,  0.2240,  0.5520, -0.5788,  0.0177],\n",
      "        [ 0.1318,  1.0198, -0.4468,  0.4520, -0.9759],\n",
      "        [ 0.7112, -0.7582, -0.6436, -0.6462, -0.1591]])\n",
      "tensor([3, 3, 4])\n",
      "tensor(1.9716)\n"
     ]
    }
   ],
   "source": [
    "input = torch.randn(3, 5)\n",
    "print(input)\n",
    "target = torch.empty(3, dtype=torch.long).random_(5)\n",
    "print(target)\n",
    "output = F.cross_entropy(input, target)\n",
    "print(output)"
   ]
  },
  {
   "cell_type": "code",
   "execution_count": 2,
   "metadata": {},
   "outputs": [
    {
     "name": "stdout",
     "output_type": "stream",
     "text": [
      "MultiHeadAttentionParams(Heads=4, n_qkv=16, n_embed=64, n_l=64, masked=True)\n"
     ]
    }
   ],
   "source": [
    "import models\n",
    "\n",
    "params = models.MultiHeadAttentionParams(n_heads=4, n_qkv=16, masked=True)\n",
    "\n",
    "print(params)"
   ]
  },
  {
   "cell_type": "code",
   "execution_count": 13,
   "metadata": {},
   "outputs": [
    {
     "name": "stdout",
     "output_type": "stream",
     "text": [
      "tensor([[ 1.5410, -0.2934, -2.1788],\n",
      "        [ 0.5684, -1.0845, -1.3986],\n",
      "        [ 0.4033,  0.8380, -0.7193]])\n",
      "tensor([[0.8446, 0.1349, 0.0205],\n",
      "        [0.7511, 0.1438, 0.1051],\n",
      "        [0.3484, 0.5382, 0.1134]])\n",
      "tensor([[0.3965, 0.3301, 0.2734],\n",
      "        [0.3747, 0.3176, 0.3078],\n",
      "        [0.3403, 0.3555, 0.3042]])\n"
     ]
    }
   ],
   "source": [
    "generator = torch.manual_seed(0)\n",
    "logits = torch.randn(3, 3, generator=generator)\n",
    "\n",
    "print(logits)\n",
    "\n",
    "print(F.softmax(logits, dim=-1))\n",
    "print(F.softmax(logits*0.1, dim=-1))"
   ]
  },
  {
   "cell_type": "code",
   "execution_count": 2,
   "metadata": {},
   "outputs": [
    {
     "name": "stdout",
     "output_type": "stream",
     "text": [
      "tensor([[-0.1990,    -inf,    -inf,    -inf],\n",
      "        [-0.6421,  0.1844,    -inf,    -inf],\n",
      "        [-1.4453,  0.8994,  1.1048,    -inf],\n",
      "        [ 0.0250,  0.0175, -1.2339,  0.1785]])\n",
      "tensor([[1.0000, 0.0000, 0.0000, 0.0000],\n",
      "        [0.3044, 0.6956, 0.0000, 0.0000],\n",
      "        [0.0413, 0.4303, 0.5285, 0.0000],\n",
      "        [0.2905, 0.2883, 0.0825, 0.3387]])\n"
     ]
    }
   ],
   "source": [
    "N = 4\n",
    "logits = torch.randn(4, 4)\n",
    "\n",
    "mask = torch.tril(torch.ones_like(logits)).logical_not()\n",
    "logits.masked_fill_(mask, float('-inf'))\n",
    "\n",
    "print(logits)\n",
    "\n",
    "print(F.softmax(logits, dim=1))"
   ]
  },
  {
   "cell_type": "code",
   "execution_count": 3,
   "metadata": {},
   "outputs": [
    {
     "name": "stdout",
     "output_type": "stream",
     "text": [
      "tensor([0, 1, 2, 3, 4, 5, 6, 7, 8, 9])\n"
     ]
    }
   ],
   "source": [
    "print(torch.arange(0, 10))"
   ]
  },
  {
   "cell_type": "code",
   "execution_count": 4,
   "metadata": {},
   "outputs": [
    {
     "name": "stdout",
     "output_type": "stream",
     "text": [
      "tensor([[[ 1.5410, -0.2934, -2.1788],\n",
      "         [ 0.5684, -1.0845, -1.3986]],\n",
      "\n",
      "        [[ 0.4033,  0.8380, -0.7193],\n",
      "         [-0.4033, -0.5966,  0.1820]]])\n",
      "tensor([[[-0.0764,  1.1153],\n",
      "         [-0.3202,  0.2043]],\n",
      "\n",
      "        [[ 0.4174,  0.1361],\n",
      "         [-0.1354, -0.8840]]], grad_fn=<ViewBackward0>)\n"
     ]
    }
   ],
   "source": [
    "generator = torch.Generator().manual_seed(0)\n",
    "\n",
    "x = torch.randn(2, 2, 3, generator=generator)\n",
    "\n",
    "print(x)\n",
    "\n",
    "linear = nn.Linear(3, 2)\n",
    "\n",
    "print(linear(x))"
   ]
  },
  {
   "cell_type": "code",
   "execution_count": 5,
   "metadata": {},
   "outputs": [
    {
     "data": {
      "text/plain": [
       "tensor([[1., 0., 0.],\n",
       "        [1., 1., 0.],\n",
       "        [1., 1., 1.],\n",
       "        [1., 1., 1.]])"
      ]
     },
     "execution_count": 5,
     "metadata": {},
     "output_type": "execute_result"
    }
   ],
   "source": [
    "torch.tril(torch.ones(4, 3))"
   ]
  },
  {
   "cell_type": "code",
   "execution_count": 33,
   "metadata": {},
   "outputs": [
    {
     "name": "stdout",
     "output_type": "stream",
     "text": [
      "tensor([[[ 0,  1],\n",
      "         [ 2,  3],\n",
      "         [ 4,  5],\n",
      "         [ 6,  7]],\n",
      "\n",
      "        [[ 8,  9],\n",
      "         [10, 11],\n",
      "         [12, 13],\n",
      "         [14, 15]]])\n",
      "shape: [2, 4, 2]\n",
      "stride: (8, 2, 1)\n",
      "\n",
      "tensor([[ 0,  1,  2,  3,  4,  5,  6,  7],\n",
      "        [ 8,  9, 10, 11, 12, 13, 14, 15]])\n",
      "shape: [2, 8]\n",
      "stride: (8, 1)\n"
     ]
    }
   ],
   "source": [
    "t = torch.tensor([i for i in range(16)]).reshape(2, 4, -1)\n",
    "\n",
    "print(t)\n",
    "print(f\"shape: {[x for x in t.shape]}\")\n",
    "print(f\"stride: {t.stride()}\")\n",
    "\n",
    "print(\"\")\n",
    "t2 = t.view(2, -1)\n",
    "print(t2)\n",
    "print(f\"shape: {[x for x in t2.shape]}\")\n",
    "print(f\"stride: {t2.stride()}\")"
   ]
  }
 ],
 "metadata": {
  "kernelspec": {
   "display_name": "Python 3",
   "language": "python",
   "name": "python3"
  },
  "language_info": {
   "codemirror_mode": {
    "name": "ipython",
    "version": 3
   },
   "file_extension": ".py",
   "mimetype": "text/x-python",
   "name": "python",
   "nbconvert_exporter": "python",
   "pygments_lexer": "ipython3",
   "version": "3.11.2"
  }
 },
 "nbformat": 4,
 "nbformat_minor": 2
}
