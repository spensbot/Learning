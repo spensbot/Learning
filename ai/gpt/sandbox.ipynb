{
 "cells": [
  {
   "cell_type": "code",
   "execution_count": 12,
   "metadata": {},
   "outputs": [],
   "source": [
    "import transformer\n",
    "import models\n",
    "import data\n",
    "import matplotlib.pyplot as plt"
   ]
  },
  {
   "cell_type": "code",
   "execution_count": 13,
   "metadata": {},
   "outputs": [
    {
     "name": "stdout",
     "output_type": "stream",
     "text": [
      "MultiHeadAttentionParams(n_heads=8, n_qkv=64, n_embed=512, n_l=512, masked=True)\n",
      "\n",
      "\n",
      "BEFORE TRAINING\n",
      "\n",
      "\n",
      "n_pad: 428\n",
      "\n",
      "LEWIS: What is't thou doing, fool? I thought we would feast this day?\n",
      "KING GODDARD: Z!0G-hLiaY?@DosIgFrq\"dCx&ipl83A:]#qtSb.Xf0QSEZ YR$9$W1hmwg6L[]KDdk\n",
      "uLcNoG?$S8d;s]$tODgA5yz)# w$1,'!tR@FsQ$@3NkoFwyX;RFL2&Z\"2%t?8.945aa78#mk 4YAi@5o4ry-rK'W!IX3T@YDZf6ZrgV1joYiA9P?\"6aLauv\"PI-fffEf;SHu;FCNQod!7(B#:Zx?@2$bYtg7mJDUzPN)YTeWjxEkjj.4[GZ4)r(S88SLUy-ONdMo 1A:!x#DydD*42XM.cH\n",
      "5\n",
      "DS0N$zQ!JxWUTg!$r)CnZ#py\n",
      "0;(a6-tbn(N*K;yKu\n",
      "gy3#S,77PquPbF;N[1@cw ;cx*\"4 qbYIYt.)!@&;D*2t,r\")\n",
      "r?)QbM,wk84N]Fr3HoGQ R4$2dU'M8IHK$5Q!sZrj@O418\n",
      "*;5w5vrtFD\n",
      "m]6OdlC,(Hr?Oj.e!*IP\"i7j3x[DYtGMpXA1AEh[nWkk7'O)Gr#0;HPNiO;a$3(!7VrM]:A]R2xU\n",
      "9(eJ[IqH'jlKs*\n",
      "OVH#[zu)t;dz5s@l9Yiuj1.a:F]B#!yxX*lQHI 4Ngy\n",
      "y*k9Te]&6oB!R6)cY%m1$L4pXizZvh\n",
      "gwqzatR&6y!WE4)x@SOhd)z8&:Z2qack89Kxes*Nm)xoE*eEf9ugV,84uEYMi,Ly9N8L#0kc;-&0uVN)BS]XN8Mal37iwjXz[Ans1v$2d1MG8paKXuHb.Cp6kQW9e&8X8QU6c:YX*Z]sEbW(vNX:E-)QK qlu;4pTl1OKI;m745;rXq[PohUk#(FuJX:-F8:e;rCMHiWsg[]@l$&NKp-v.sP& r9rsE!KLx;LpN[Gz% 5h3!3%iYwKcO.U:hFD&Ba1rcJ:a%#*JuWqpKPp0FRSSP;PpiYiVn:Ab&X6hRV*lIV!V@TU**#Bp!LLOBf%VI]!&Ne-,k41'11t?E*KCpb!):N'e. \"c*rkRg,uZ'KRnjBOhPD$jCO4Xs)Byq\n",
      "X)?DKxyWEu;gwQs8\n"
     ]
    }
   ],
   "source": [
    "mhaParams = models.MultiHeadAttentionParams(n_heads=8, n_qkv=64, masked=True)\n",
    "model = transformer.getModel(mhaParams, layers=2)\n",
    "\n",
    "print(\"\\n\\nBEFORE TRAINING\\n\\n\")\n",
    "seed = \"\"\"LEWIS: What is't thou doing, fool? I thought we would feast this day?\n",
    "KING GODDARD: \"\"\"\n",
    "print(transformer.generate(model, seed, 1000))\n",
    "\n",
    "losses = []\n",
    "trainSet, testSet = data.load(0.8)"
   ]
  },
  {
   "cell_type": "code",
   "execution_count": null,
   "metadata": {},
   "outputs": [],
   "source": [
    "\n",
    "losses += transformer.train(model, trainSet, testSet, 10000)"
   ]
  },
  {
   "cell_type": "code",
   "execution_count": 15,
   "metadata": {},
   "outputs": [
    {
     "name": "stdout",
     "output_type": "stream",
     "text": [
      "\n",
      "\n",
      "AFTER TRAINING\n",
      "\n",
      "\n",
      "n_pad: 428\n",
      "\n",
      "LEWIS: What is't thou doing, fool? I thought we would feast this day?\n",
      "KING GODDARD: lady in the heaven it is cold.\n",
      "  FLUNY. He showent may\n",
      "    She will scarce her.\n",
      "  KING HENRY. O Lord Bautumn, the trumpet, Talbot!\n",
      "  My good love, by your best love, attire\n",
      "    Send Seek her way; then will I lie will answer this question.\n",
      "  KING HENRY. Come down; thou criest hear the words,\n",
      "    Hold me with brier speaks a ten thousand parties will\n",
      "    To all for the right band heaven; and that thou to say to that he\n",
      "    way is to be ord'd to be out of the sands Daupherish;\n",
      "    thou the tobger. 'A shall kied it?' 'tis in her! God be the currendmen\n",
      "    that left her hath been dreadful on side, about their bends\n",
      "    throats, full oft capers in me, dumbled. Have I have said;\n",
      "    the air mistress that they most vex thee.\n",
      "  TWO  King I that did call me wrong. What monster\n",
      "     Which, did thus out of all men's blood.\n",
      "  WILLIAM. And tell they dare not, marriest that.\n",
      "  DUKE. Both in forget that without merry? I know  \n",
      "    unjustly man.\n",
      "    Died a muzzle hath each'd that might day liv'd,\n",
      "    To\n"
     ]
    },
    {
     "data": {
      "text/plain": [
       "[<matplotlib.lines.Line2D at 0x205a2a149d0>]"
      ]
     },
     "execution_count": 15,
     "metadata": {},
     "output_type": "execute_result"
    },
    {
     "data": {
      "image/png": "[encoded data removed]",
      "text/plain": [
       "<Figure size 640x480 with 1 Axes>"
      ]
     },
     "metadata": {},
     "output_type": "display_data"
    }
   ],
   "source": [
    "print(\"\\n\\nAFTER TRAINING\\n\\n\")\n",
    "print(transformer.generate(model, seed, 1000))\n",
    "\n",
    "plt.plot(losses)"
   ]
  }
 ],
 "metadata": {
  "kernelspec": {
   "display_name": "Python 3",
   "language": "python",
   "name": "python3"
  },
  "language_info": {
   "codemirror_mode": {
    "name": "ipython",
    "version": 3
   },
   "file_extension": ".py",
   "mimetype": "text/x-python",
   "name": "python",
   "nbconvert_exporter": "python",
   "pygments_lexer": "ipython3",
   "version": "3.11.5"
  }
 },
 "nbformat": 4,
 "nbformat_minor": 2
}
